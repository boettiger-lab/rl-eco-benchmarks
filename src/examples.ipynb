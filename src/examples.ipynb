{
 "cells": [
  {
   "cell_type": "markdown",
   "metadata": {},
   "source": [
    "# Examples for how to use our ecological-RL API\n",
    "\n",
    "Our approach seeks to minimize the amount of computational information that the user\n",
    "needs to provide in order to get an RL algorithm up and running on their population\n",
    "dynamics control problem.\n",
    "\n",
    "## 1. Using ray RLLib to train\n",
    "\n",
    "The class `ray_trainer_api.ray_trainer` may be used for defining, tuning, and training an agent using the ray RLLib framework."
   ]
  },
  {
   "cell_type": "code",
   "execution_count": 1,
   "metadata": {
    "tags": []
   },
   "outputs": [],
   "source": [
    "# necessary installations for our package:\n",
    "\n",
    "#! pip install dm-tree\n",
    "#! pip install ray[rllib]\n",
    "#! pip install gymnasium\n",
    "#! pip install numpy\n",
    "#! pip install pandas\n",
    "#! pip install scipy\n"
   ]
  },
  {
   "cell_type": "code",
   "execution_count": 2,
   "metadata": {},
   "outputs": [
    {
     "name": "stderr",
     "output_type": "stream",
     "text": [
      "2023-08-22 23:44:58,282\tWARNING deprecation.py:50 -- DeprecationWarning: `DirectStepOptimizer` has been deprecated. This will raise an error in the future!\n",
      "2023-08-22 23:44:58,507\tWARNING deprecation.py:50 -- DeprecationWarning: `build_tf_policy` has been deprecated. This will raise an error in the future!\n",
      "2023-08-22 23:44:58,510\tWARNING deprecation.py:50 -- DeprecationWarning: `build_policy_class` has been deprecated. This will raise an error in the future!\n"
     ]
    }
   ],
   "source": [
    "import numpy as np\n",
    "\n",
    "from ray_trainer_api import ray_trainer\n",
    "from dyn_fns import threeSp_1"
   ]
  },
  {
   "cell_type": "markdown",
   "metadata": {},
   "source": [
    "### Ecological input\n",
    "\n",
    "The cell below translates the ecological data defining the control problem to the format that our classes use.\n",
    "\n",
    "The control problem is taken from the [rl-minicourse](https://github.com/cboettig/rl-minicourse) repository (found in the `challenge.ipynb` notebook).\n",
    "\n",
    "The `metadata` dictionary encapsulates most of the information of the control problem, except for the actual dynamics of the system. `dyn_fn` encapsulates the dynamics of the system (note that the number of arguments of this function must match `metadata['n_sp']`)."
   ]
  },
  {
   "cell_type": "code",
   "execution_count": 3,
   "metadata": {
    "tags": []
   },
   "outputs": [],
   "source": [
    "metadata = {\n",
    "\t#\n",
    "\t# structure of ctrl problem\n",
    "\t'name': 'minicourse_challenge', \n",
    "\t'n_sp':  3,\n",
    "\t'n_act': 2,\n",
    "\t'_harvested_sp': [0,1],\n",
    "\t#\n",
    "\t# about episodes\n",
    "\t'init_pop': np.float32([0.5, 0.5, 0.2]),\n",
    "\t'reset_sigma': 0.01,\n",
    "\t'tmax': 800,\n",
    "\t#\n",
    "\t# about dynamics / control\n",
    "    'extinct_thresh': 0.05,\n",
    "    'penalty_fn': lambda t: - 800 / (t+1),\n",
    "\t'var_bound': 4,\n",
    "\t'_costs': np.zeros(2, dtype=np.float32),\n",
    "\t'_prices': np.ones(2, dtype=np.float32),\n",
    "}\n",
    "\n",
    "params = {\n",
    "\t\"r_x\": np.float32(0.13),\n",
    "\t\"r_y\": np.float32(0.2),\n",
    "\t\"K\": np.float32(1),\n",
    "\t\"beta\": np.float32(.1),\n",
    "\t\"v0\":  np.float32(0.1),\n",
    "\t\"D\": np.float32(0.7),\n",
    "\t\"tau_yx\": np.float32(0),\n",
    "\t\"tau_xy\": np.float32(0),\n",
    "\t\"alpha\": np.float32(.3), \n",
    "\t\"dH\": np.float32(0.03),\n",
    "\t\"sigma_x\": np.float32(0.05),\n",
    "\t\"sigma_y\": np.float32(0.05),\n",
    "\t\"sigma_z\": np.float32(0.05),\n",
    "}\n",
    "\n",
    "def dyn_fn(X, Y, Z):\n",
    "\tglobal params\n",
    "\tp = params\n",
    "\t#\n",
    "\treturn np.float32([\n",
    "\t\tX + (p[\"r_x\"] * X * (1 - (X + p[\"tau_xy\"] * Y) / p[\"K\"])\n",
    "            - (1 - p[\"D\"]) * p[\"beta\"] * Z * (X**2) / (p[\"v0\"]**2 + X**2)\n",
    "            + p[\"sigma_x\"] * X * np.random.normal()\n",
    "            ),\n",
    "\t\tY + (p[\"r_y\"] * Y * (1 - (Y + p[\"tau_yx\"]* X ) / p[\"K\"] )\n",
    "\t\t\t\t- p[\"D\"] * p[\"beta\"] * Z * (Y**2) / (p[\"v0\"]**2 + Y**2)\n",
    "\t\t\t\t+ p[\"sigma_y\"] * Y * np.random.normal()\n",
    "\t\t\t\t),\n",
    "\t\tZ + p[\"alpha\"] * p[\"beta\"] * Z * (\n",
    "\t\t\t\t(1-p[\"D\"]) * (X**2) / (p[\"v0\"]**2 + X**2)\n",
    "\t\t\t\t+ p[\"D\"] * (Y**2) / (p[\"v0\"]**2 + Y**2)\n",
    "\t\t\t\t) - p[\"dH\"] * Z +  p[\"sigma_z\"] * Z  * np.random.normal()\n",
    "\t])"
   ]
  },
  {
   "cell_type": "markdown",
   "metadata": {},
   "source": [
    "### Training\n",
    "\n",
    "With the previous setup, we may define our trainer and train it as shown below."
   ]
  },
  {
   "cell_type": "code",
   "execution_count": null,
   "metadata": {},
   "outputs": [],
   "source": [
    "RT = ray_trainer(\n",
    "\talgo_name=\"ppo\", \n",
    "\tconfig={\n",
    "        'metadata': metadata,\n",
    "        'dyn_fn': dyn_fn,\n",
    "    },\n",
    ")\n",
    "agent = RT.train(iterations=200)"
   ]
  },
  {
   "cell_type": "code",
   "execution_count": 5,
   "metadata": {
    "tags": []
   },
   "outputs": [],
   "source": [
    "from base_env import ray_eco_env\n",
    "\n",
    "env = ray_eco_env(config={'metadata': metadata,'dyn_fn': dyn_fn})"
   ]
  },
  {
   "cell_type": "code",
   "execution_count": 9,
   "metadata": {
    "tags": []
   },
   "outputs": [],
   "source": [
    "import pandas as pd\n",
    "\n",
    "def generate_episode(agent, env):\n",
    "    df = []\n",
    "    episode_reward = 0\n",
    "    observation, _ = env.reset()\n",
    "    for t in range(env.env.metadata.tmax):\n",
    "        action = agent.compute_single_action(observation, deterministic=True)\n",
    "        pop = env.env.state_to_pop(observation) # natural units\n",
    "        effort = (action + 1)/2\n",
    "        df.append([t, episode_reward, \n",
    "                 *effort, \n",
    "                 *pop\n",
    "                ])\n",
    "\n",
    "        observation, reward, terminated, done, info = env.step(action)\n",
    "        episode_reward += reward\n",
    "        if terminated or done:\n",
    "            break\n",
    "    df = pd.DataFrame(df, columns=['t', 'reward', 'x_cull', 'y_cull', 'x', 'y', 'z'])\n",
    "    \n",
    "    return {'ep_df': df, 'reward': episode_reward}"
   ]
  },
  {
   "cell_type": "code",
   "execution_count": 19,
   "metadata": {},
   "outputs": [],
   "source": [
    "from plotnine import ggplot, aes, geom_line\n",
    "\n",
    "def plot_episode(df):\n",
    "    \"\"\" plots an episode df. df generated using generate_episode(). \"\"\"\n",
    "    return ggplot(\n",
    "        df[['t', 'x_cull', 'y_cull', 'x', 'y', 'z']].melt([\"t\"]),\n",
    "        aes(\"t\", \"value\", color=\"variable\"),\n",
    "    ) + geom_line()\n"
   ]
  },
  {
   "cell_type": "code",
   "execution_count": 20,
   "metadata": {
    "tags": []
   },
   "outputs": [
    {
     "data": {
      "image/png": "[encoded data removed]",
      "text/plain": [
       "<Figure size 640x480 with 1 Axes>"
      ]
     },
     "metadata": {},
     "output_type": "display_data"
    },
    {
     "data": {
      "text/plain": [
       "<ggplot: (8749668159855)>"
      ]
     },
     "execution_count": 20,
     "metadata": {},
     "output_type": "execute_result"
    }
   ],
   "source": [
    "episode = generate_episode(agent, env)\n",
    "episode_df = episode[\"ep_df\"]\n",
    "plot_episode(episode_df)"
   ]
  },
  {
   "cell_type": "code",
   "execution_count": 13,
   "metadata": {
    "tags": []
   },
   "outputs": [
    {
     "data": {
      "text/html": [
       "<div>\n",
       "<style scoped>\n",
       "    .dataframe tbody tr th:only-of-type {\n",
       "        vertical-align: middle;\n",
       "    }\n",
       "\n",
       "    .dataframe tbody tr th {\n",
       "        vertical-align: top;\n",
       "    }\n",
       "\n",
       "    .dataframe thead th {\n",
       "        text-align: right;\n",
       "    }\n",
       "</style>\n",
       "<table border=\"1\" class=\"dataframe\">\n",
       "  <thead>\n",
       "    <tr style=\"text-align: right;\">\n",
       "      <th></th>\n",
       "      <th>t</th>\n",
       "      <th>reward</th>\n",
       "      <th>x_cull</th>\n",
       "      <th>y_cull</th>\n",
       "      <th>x</th>\n",
       "      <th>y</th>\n",
       "      <th>z</th>\n",
       "    </tr>\n",
       "  </thead>\n",
       "  <tbody>\n",
       "    <tr>\n",
       "      <th>0</th>\n",
       "      <td>0</td>\n",
       "      <td>0.000000</td>\n",
       "      <td>0.160421</td>\n",
       "      <td>0.000000</td>\n",
       "      <td>0.508989</td>\n",
       "      <td>0.486736</td>\n",
       "      <td>0.183231</td>\n",
       "    </tr>\n",
       "    <tr>\n",
       "      <th>1</th>\n",
       "      <td>1</td>\n",
       "      <td>0.081652</td>\n",
       "      <td>0.197276</td>\n",
       "      <td>0.032064</td>\n",
       "      <td>0.466593</td>\n",
       "      <td>0.500402</td>\n",
       "      <td>0.187361</td>\n",
       "    </tr>\n",
       "    <tr>\n",
       "      <th>2</th>\n",
       "      <td>2</td>\n",
       "      <td>0.189745</td>\n",
       "      <td>0.000000</td>\n",
       "      <td>0.441787</td>\n",
       "      <td>0.434577</td>\n",
       "      <td>0.530451</td>\n",
       "      <td>0.193764</td>\n",
       "    </tr>\n",
       "    <tr>\n",
       "      <th>3</th>\n",
       "      <td>3</td>\n",
       "      <td>0.424091</td>\n",
       "      <td>0.291995</td>\n",
       "      <td>0.484426</td>\n",
       "      <td>0.448434</td>\n",
       "      <td>0.335699</td>\n",
       "      <td>0.212368</td>\n",
       "    </tr>\n",
       "    <tr>\n",
       "      <th>4</th>\n",
       "      <td>4</td>\n",
       "      <td>0.717653</td>\n",
       "      <td>0.364500</td>\n",
       "      <td>0.400507</td>\n",
       "      <td>0.328128</td>\n",
       "      <td>0.190575</td>\n",
       "      <td>0.193657</td>\n",
       "    </tr>\n",
       "  </tbody>\n",
       "</table>\n",
       "</div>"
      ],
      "text/plain": [
       "   t    reward    x_cull    y_cull         x         y         z\n",
       "0  0  0.000000  0.160421  0.000000  0.508989  0.486736  0.183231\n",
       "1  1  0.081652  0.197276  0.032064  0.466593  0.500402  0.187361\n",
       "2  2  0.189745  0.000000  0.441787  0.434577  0.530451  0.193764\n",
       "3  3  0.424091  0.291995  0.484426  0.448434  0.335699  0.212368\n",
       "4  4  0.717653  0.364500  0.400507  0.328128  0.190575  0.193657"
      ]
     },
     "execution_count": 13,
     "metadata": {},
     "output_type": "execute_result"
    }
   ],
   "source": []
  },
  {
   "cell_type": "code",
   "execution_count": null,
   "metadata": {},
   "outputs": [],
   "source": []
  }
 ],
 "metadata": {
  "kernelspec": {
   "display_name": "Python 3 (ipykernel)",
   "language": "python",
   "name": "python3"
  },
  "language_info": {
   "codemirror_mode": {
    "name": "ipython",
    "version": 3
   },
   "file_extension": ".py",
   "mimetype": "text/x-python",
   "name": "python",
   "nbconvert_exporter": "python",
   "pygments_lexer": "ipython3",
   "version": "3.10.6"
  }
 },
 "nbformat": 4,
 "nbformat_minor": 4
}
