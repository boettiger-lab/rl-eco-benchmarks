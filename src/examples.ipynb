{
 "cells": [
  {
   "cell_type": "markdown",
   "metadata": {},
   "source": [
    "# Examples for how to use our ecological-RL API\n",
    "\n",
    "Our approach seeks to minimize the amount of computational information that the user\n",
    "needs to provide in order to get an RL algorithm up and running on their population\n",
    "dynamics control problem.\n",
    "\n",
    "## 1. Using ray RLLib to train\n",
    "\n",
    "The class `ray_trainer_api.ray_trainer` may be used for defining, tuning, and training an agent using the ray RLLib framework."
   ]
  },
  {
   "cell_type": "code",
   "execution_count": 1,
   "metadata": {
    "tags": []
   },
   "outputs": [],
   "source": [
    "# necessary installations for our package:\n",
    "\n",
    "#! pip install dm-tree\n",
    "#! pip install ray[rllib]\n",
    "#! pip install gymnasium\n",
    "#! pip install numpy\n",
    "#! pip install pandas\n",
    "#! pip install scipy\n"
   ]
  },
  {
   "cell_type": "code",
   "execution_count": 2,
   "metadata": {},
   "outputs": [],
   "source": [
    "import numpy as np\n",
    "\n",
    "from ray_trainer_api import ray_trainer\n",
    "from dyn_fns import threeSp_1"
   ]
  },
  {
   "cell_type": "markdown",
   "metadata": {},
   "source": [
    "### Ecological input\n",
    "\n",
    "The cell below translates the ecological data defining the control problem to the format that our classes use.\n",
    "\n",
    "The control problem is taken from the [rl-minicourse](https://github.com/cboettig/rl-minicourse) repository (found in the `challenge.ipynb` notebook).\n",
    "\n",
    "The `metadata` dictionary encapsulates most of the information of the control problem, except for the actual dynamics of the system. `dyn_fn` encapsulates the dynamics of the system (note that the number of arguments of this function must match `metadata['n_sp']`)."
   ]
  },
  {
   "cell_type": "code",
   "execution_count": 10,
   "metadata": {
    "tags": []
   },
   "outputs": [],
   "source": [
    "metadata = {\n",
    "\t#\n",
    "\t# structure of ctrl problem\n",
    "\t'name': 'minicourse_challenge', \n",
    "\t'n_sp':  3,\n",
    "\t'n_act': 2,\n",
    "\t'_harvested_sp': [0,1],\n",
    "\t#\n",
    "\t# about episodes\n",
    "\t'init_pop': np.float32([0.5, 0.5, 0.2]),\n",
    "\t'reset_sigma': 0.01,\n",
    "\t'tmax': 800,\n",
    "\t#\n",
    "\t# about dynamics / control\n",
    "    'extinct_thresh': 0.05,\n",
    "    'penalty_fn': lambda t: - 800 / (t+1),\n",
    "\t'var_bound': 4,\n",
    "\t'_costs': np.zeros(2, dtype=np.float32),\n",
    "\t'_prices': np.ones(2, dtype=np.float32),\n",
    "}\n",
    "\n",
    "params = {\n",
    "\t\"r_x\": np.float32(0.13),\n",
    "\t\"r_y\": np.float32(0.2),\n",
    "\t\"K\": np.float32(1),\n",
    "\t\"beta\": np.float32(.1),\n",
    "\t\"v0\":  np.float32(0.1),\n",
    "\t\"D\": np.float32(0.7),\n",
    "\t\"tau_yx\": np.float32(0),\n",
    "\t\"tau_xy\": np.float32(0),\n",
    "\t\"alpha\": np.float32(.3), \n",
    "\t\"dH\": np.float32(0.03),\n",
    "\t\"sigma_x\": np.float32(0.05),\n",
    "\t\"sigma_y\": np.float32(0.05),\n",
    "\t\"sigma_z\": np.float32(0.05),\n",
    "}\n",
    "\n",
    "def dyn_fn(X, Y, Z):\n",
    "\tglobal params\n",
    "\tp = params\n",
    "\t#\n",
    "\treturn np.float32([\n",
    "\t\tX + (p[\"r_x\"] * X * (1 - (X + p[\"tau_xy\"] * Y) / p[\"K\"])\n",
    "            - (1 - p[\"D\"]) * p[\"beta\"] * Z * (X**2) / (p[\"v0\"]**2 + X**2)\n",
    "            + p[\"sigma_x\"] * X * np.random.normal()\n",
    "            ),\n",
    "\t\tY + (p[\"r_y\"] * Y * (1 - (Y + p[\"tau_yx\"]* X ) / p[\"K\"] )\n",
    "\t\t\t\t- p[\"D\"] * p[\"beta\"] * Z * (Y**2) / (p[\"v0\"]**2 + Y**2)\n",
    "\t\t\t\t+ p[\"sigma_y\"] * Y * np.random.normal()\n",
    "\t\t\t\t),\n",
    "\t\tZ + p[\"alpha\"] * p[\"beta\"] * Z * (\n",
    "\t\t\t\t(1-p[\"D\"]) * (X**2) / (p[\"v0\"]**2 + X**2)\n",
    "\t\t\t\t+ p[\"D\"] * (Y**2) / (p[\"v0\"]**2 + Y**2)\n",
    "\t\t\t\t) - p[\"dH\"] * Z +  p[\"sigma_z\"] * Z  * np.random.normal()\n",
    "\t])"
   ]
  },
  {
   "cell_type": "markdown",
   "metadata": {},
   "source": [
    "### Training\n",
    "\n",
    "With the previous setup, we may define our trainer and train it as shown below."
   ]
  },
  {
   "cell_type": "code",
   "execution_count": 11,
   "metadata": {
    "tags": []
   },
   "outputs": [
    {
     "name": "stderr",
     "output_type": "stream",
     "text": [
      "2023-08-22 18:15:29,498\tWARNING algorithm_config.py:2558 -- Setting `exploration_config={}` because you set `_enable_rl_module_api=True`. When RLModule API are enabled, exploration_config can not be set. If you want to implement custom exploration behaviour, please modify the `forward_exploration` method of the RLModule at hand. On configs that have a default exploration config, this must be done with `config.exploration_config={}`.\n",
      "2023-08-22 18:15:29,500\tWARNING algorithm_config.py:2558 -- Setting `exploration_config={}` because you set `_enable_rl_module_api=True`. When RLModule API are enabled, exploration_config can not be set. If you want to implement custom exploration behaviour, please modify the `forward_exploration` method of the RLModule at hand. On configs that have a default exploration config, this must be done with `config.exploration_config={}`.\n",
      "\u001b[2m\u001b[36m(pid=5945)\u001b[0m DeprecationWarning: `DirectStepOptimizer` has been deprecated. This will raise an error in the future!\n",
      "2023-08-22 18:15:32,634\tWARNING algorithm_config.py:2558 -- Setting `exploration_config={}` because you set `_enable_rl_module_api=True`. When RLModule API are enabled, exploration_config can not be set. If you want to implement custom exploration behaviour, please modify the `forward_exploration` method of the RLModule at hand. On configs that have a default exploration config, this must be done with `config.exploration_config={}`.\n",
      "\u001b[2m\u001b[36m(RolloutWorker pid=5945)\u001b[0m 2023-08-22 18:15:32,589\tWARNING algorithm_config.py:2558 -- Setting `exploration_config={}` because you set `_enable_rl_module_api=True`. When RLModule API are enabled, exploration_config can not be set. If you want to implement custom exploration behaviour, please modify the `forward_exploration` method of the RLModule at hand. On configs that have a default exploration config, this must be done with `config.exploration_config={}`.\n",
      "\u001b[2m\u001b[36m(RolloutWorker pid=5944)\u001b[0m 2023-08-22 18:15:32,609\tWARNING deprecation.py:50 -- DeprecationWarning: `ValueNetworkMixin` has been deprecated. This will raise an error in the future!\n",
      "\u001b[2m\u001b[36m(RolloutWorker pid=5944)\u001b[0m 2023-08-22 18:15:32,609\tWARNING deprecation.py:50 -- DeprecationWarning: `LearningRateSchedule` has been deprecated. This will raise an error in the future!\n",
      "\u001b[2m\u001b[36m(RolloutWorker pid=5944)\u001b[0m 2023-08-22 18:15:32,609\tWARNING deprecation.py:50 -- DeprecationWarning: `EntropyCoeffSchedule` has been deprecated. This will raise an error in the future!\n",
      "\u001b[2m\u001b[36m(RolloutWorker pid=5944)\u001b[0m 2023-08-22 18:15:32,609\tWARNING deprecation.py:50 -- DeprecationWarning: `KLCoeffMixin` has been deprecated. This will raise an error in the future!\n",
      "2023-08-22 18:15:32,683\tWARNING util.py:68 -- Install gputil for GPU system monitoring.\n"
     ]
    },
    {
     "name": "stdout",
     "output_type": "stream",
     "text": [
      "iteration nr. 1\r"
     ]
    }
   ],
   "source": [
    "RT = ray_trainer(\n",
    "\talgo_name=\"ppo\", \n",
    "\tconfig={\n",
    "        'metadata': metadata,\n",
    "        'dyn_fn': dyn_fn,\n",
    "    },\n",
    ")\n",
    "agent = RT.train(iterations=300)"
   ]
  },
  {
   "cell_type": "code",
   "execution_count": null,
   "metadata": {
    "tags": []
   },
   "outputs": [],
   "source": [
    "from base_env import ray_eco_env\n",
    "\n",
    "env = ray_eco_env(config={'metadata': metadata,'dyn_fn': dyn_fn})"
   ]
  }
 ],
 "metadata": {
  "kernelspec": {
   "display_name": "Python 3 (ipykernel)",
   "language": "python",
   "name": "python3"
  },
  "language_info": {
   "codemirror_mode": {
    "name": "ipython",
    "version": 3
   },
   "file_extension": ".py",
   "mimetype": "text/x-python",
   "name": "python",
   "nbconvert_exporter": "python",
   "pygments_lexer": "ipython3",
   "version": "3.7.6"
  }
 },
 "nbformat": 4,
 "nbformat_minor": 4
}
