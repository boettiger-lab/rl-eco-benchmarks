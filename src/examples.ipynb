{
 "cells": [
  {
   "cell_type": "markdown",
   "metadata": {},
   "source": [
    "# Examples for how to use our ecological-RL API\n",
    "\n",
    "Our approach seeks to minimize the amount of computational information that the user\n",
    "needs to provide in order to get an RL algorithm up and running on their population\n",
    "dynamics control problem.\n",
    "\n",
    "## 1. Using ray RLLib to train\n",
    "\n",
    "The class `ray_trainer_api.ray_trainer` may be used for defining, tuning, and training an agent using the ray RLLib framework."
   ]
  },
  {
   "cell_type": "code",
   "execution_count": 1,
   "metadata": {
    "tags": []
   },
   "outputs": [
    {
     "name": "stderr",
     "output_type": "stream",
     "text": [
      "/Library/Frameworks/Python.framework/Versions/3.11/lib/python3.11/site-packages/tqdm/auto.py:21: TqdmWarning: IProgress not found. Please update jupyter and ipywidgets. See https://ipywidgets.readthedocs.io/en/stable/user_install.html\n",
      "  from .autonotebook import tqdm as notebook_tqdm\n",
      "2023-08-22 12:50:36,635\tINFO util.py:159 -- Missing packages: ['ipywidgets']. Run `pip install -U ipywidgets`, then restart the notebook server for rich notebook output.\n",
      "2023-08-22 12:50:38,641\tINFO util.py:159 -- Missing packages: ['ipywidgets']. Run `pip install -U ipywidgets`, then restart the notebook server for rich notebook output.\n"
     ]
    },
    {
     "ename": "ModuleNotFoundError",
     "evalue": "No module named 'tree'",
     "output_type": "error",
     "traceback": [
      "\u001b[0;31m---------------------------------------------------------------------------\u001b[0m",
      "\u001b[0;31mModuleNotFoundError\u001b[0m                       Traceback (most recent call last)",
      "Cell \u001b[0;32mIn[1], line 11\u001b[0m\n\u001b[1;32m      1\u001b[0m \u001b[39m# necessary installations for our package:\u001b[39;00m\n\u001b[1;32m      2\u001b[0m \n\u001b[1;32m      3\u001b[0m \u001b[39m#! pip install ray[rllib]\u001b[39;00m\n\u001b[0;32m   (...)\u001b[0m\n\u001b[1;32m      6\u001b[0m \u001b[39m#! pip install pandas\u001b[39;00m\n\u001b[1;32m      7\u001b[0m \u001b[39m#! pip install scipy\u001b[39;00m\n\u001b[1;32m      9\u001b[0m \u001b[39mimport\u001b[39;00m \u001b[39mnumpy\u001b[39;00m \u001b[39mas\u001b[39;00m \u001b[39mnp\u001b[39;00m\n\u001b[0;32m---> 11\u001b[0m \u001b[39mfrom\u001b[39;00m \u001b[39mray_trainer_api\u001b[39;00m \u001b[39mimport\u001b[39;00m ray_trainer\n\u001b[1;32m     12\u001b[0m \u001b[39mfrom\u001b[39;00m \u001b[39mdyn_fns\u001b[39;00m \u001b[39mimport\u001b[39;00m threeSp_1\n",
      "File \u001b[0;32m~/Desktop/Postdoc/Research/RL/rl_eco_benchmarks/src/ray_trainer_api.py:9\u001b[0m\n\u001b[1;32m      6\u001b[0m \u001b[39mfrom\u001b[39;00m \u001b[39mdataclasses\u001b[39;00m \u001b[39mimport\u001b[39;00m dataclass\n\u001b[1;32m      7\u001b[0m \u001b[39mfrom\u001b[39;00m \u001b[39mtyping\u001b[39;00m \u001b[39mimport\u001b[39;00m Dict, List\n\u001b[0;32m----> 9\u001b[0m \u001b[39mfrom\u001b[39;00m \u001b[39mray\u001b[39;00m\u001b[39m.\u001b[39;00m\u001b[39mrllib\u001b[39;00m\u001b[39m.\u001b[39;00m\u001b[39malgorithms\u001b[39;00m\u001b[39m.\u001b[39;00m\u001b[39ma2c\u001b[39;00m \u001b[39mimport\u001b[39;00m A2CConfig\n\u001b[1;32m     10\u001b[0m \u001b[39mfrom\u001b[39;00m \u001b[39mray\u001b[39;00m\u001b[39m.\u001b[39;00m\u001b[39mrllib\u001b[39;00m\u001b[39m.\u001b[39;00m\u001b[39malgorithms\u001b[39;00m\u001b[39m.\u001b[39;00m\u001b[39ma3c\u001b[39;00m \u001b[39mimport\u001b[39;00m A3CConfig\n\u001b[1;32m     11\u001b[0m \u001b[39mfrom\u001b[39;00m \u001b[39mray\u001b[39;00m\u001b[39m.\u001b[39;00m\u001b[39mrllib\u001b[39;00m\u001b[39m.\u001b[39;00m\u001b[39malgorithms\u001b[39;00m\u001b[39m.\u001b[39;00m\u001b[39mmaml\u001b[39;00m \u001b[39mimport\u001b[39;00m MAMLConfig\n",
      "File \u001b[0;32m/Library/Frameworks/Python.framework/Versions/3.11/lib/python3.11/site-packages/ray/rllib/__init__.py:7\u001b[0m\n\u001b[1;32m      3\u001b[0m \u001b[39mfrom\u001b[39;00m \u001b[39mray\u001b[39;00m\u001b[39m.\u001b[39;00m\u001b[39m_private\u001b[39;00m\u001b[39m.\u001b[39;00m\u001b[39musage\u001b[39;00m \u001b[39mimport\u001b[39;00m usage_lib\n\u001b[1;32m      5\u001b[0m \u001b[39m# Note: do not introduce unnecessary library dependencies here, e.g. gym.\u001b[39;00m\n\u001b[1;32m      6\u001b[0m \u001b[39m# This file is imported from the tune module in order to register RLlib agents.\u001b[39;00m\n\u001b[0;32m----> 7\u001b[0m \u001b[39mfrom\u001b[39;00m \u001b[39mray\u001b[39;00m\u001b[39m.\u001b[39;00m\u001b[39mrllib\u001b[39;00m\u001b[39m.\u001b[39;00m\u001b[39menv\u001b[39;00m\u001b[39m.\u001b[39;00m\u001b[39mbase_env\u001b[39;00m \u001b[39mimport\u001b[39;00m BaseEnv\n\u001b[1;32m      8\u001b[0m \u001b[39mfrom\u001b[39;00m \u001b[39mray\u001b[39;00m\u001b[39m.\u001b[39;00m\u001b[39mrllib\u001b[39;00m\u001b[39m.\u001b[39;00m\u001b[39menv\u001b[39;00m\u001b[39m.\u001b[39;00m\u001b[39mexternal_env\u001b[39;00m \u001b[39mimport\u001b[39;00m ExternalEnv\n\u001b[1;32m      9\u001b[0m \u001b[39mfrom\u001b[39;00m \u001b[39mray\u001b[39;00m\u001b[39m.\u001b[39;00m\u001b[39mrllib\u001b[39;00m\u001b[39m.\u001b[39;00m\u001b[39menv\u001b[39;00m\u001b[39m.\u001b[39;00m\u001b[39mmulti_agent_env\u001b[39;00m \u001b[39mimport\u001b[39;00m MultiAgentEnv\n",
      "File \u001b[0;32m/Library/Frameworks/Python.framework/Versions/3.11/lib/python3.11/site-packages/ray/rllib/env/__init__.py:1\u001b[0m\n\u001b[0;32m----> 1\u001b[0m \u001b[39mfrom\u001b[39;00m \u001b[39mray\u001b[39;00m\u001b[39m.\u001b[39;00m\u001b[39mrllib\u001b[39;00m\u001b[39m.\u001b[39;00m\u001b[39menv\u001b[39;00m\u001b[39m.\u001b[39;00m\u001b[39mbase_env\u001b[39;00m \u001b[39mimport\u001b[39;00m BaseEnv\n\u001b[1;32m      2\u001b[0m \u001b[39mfrom\u001b[39;00m \u001b[39mray\u001b[39;00m\u001b[39m.\u001b[39;00m\u001b[39mrllib\u001b[39;00m\u001b[39m.\u001b[39;00m\u001b[39menv\u001b[39;00m\u001b[39m.\u001b[39;00m\u001b[39menv_context\u001b[39;00m \u001b[39mimport\u001b[39;00m EnvContext\n\u001b[1;32m      3\u001b[0m \u001b[39mfrom\u001b[39;00m \u001b[39mray\u001b[39;00m\u001b[39m.\u001b[39;00m\u001b[39mrllib\u001b[39;00m\u001b[39m.\u001b[39;00m\u001b[39menv\u001b[39;00m\u001b[39m.\u001b[39;00m\u001b[39mexternal_env\u001b[39;00m \u001b[39mimport\u001b[39;00m ExternalEnv\n",
      "File \u001b[0;32m/Library/Frameworks/Python.framework/Versions/3.11/lib/python3.11/site-packages/ray/rllib/env/base_env.py:6\u001b[0m\n\u001b[1;32m      4\u001b[0m \u001b[39mimport\u001b[39;00m \u001b[39mgymnasium\u001b[39;00m \u001b[39mas\u001b[39;00m \u001b[39mgym\u001b[39;00m\n\u001b[1;32m      5\u001b[0m \u001b[39mimport\u001b[39;00m \u001b[39mray\u001b[39;00m\n\u001b[0;32m----> 6\u001b[0m \u001b[39mfrom\u001b[39;00m \u001b[39mray\u001b[39;00m\u001b[39m.\u001b[39;00m\u001b[39mrllib\u001b[39;00m\u001b[39m.\u001b[39;00m\u001b[39mutils\u001b[39;00m\u001b[39m.\u001b[39;00m\u001b[39mannotations\u001b[39;00m \u001b[39mimport\u001b[39;00m Deprecated, DeveloperAPI, PublicAPI\n\u001b[1;32m      7\u001b[0m \u001b[39mfrom\u001b[39;00m \u001b[39mray\u001b[39;00m\u001b[39m.\u001b[39;00m\u001b[39mrllib\u001b[39;00m\u001b[39m.\u001b[39;00m\u001b[39mutils\u001b[39;00m\u001b[39m.\u001b[39;00m\u001b[39mtyping\u001b[39;00m \u001b[39mimport\u001b[39;00m AgentID, EnvID, EnvType, MultiEnvDict\n\u001b[1;32m      9\u001b[0m \u001b[39mif\u001b[39;00m TYPE_CHECKING:\n",
      "File \u001b[0;32m/Library/Frameworks/Python.framework/Versions/3.11/lib/python3.11/site-packages/ray/rllib/utils/__init__.py:6\u001b[0m\n\u001b[1;32m      4\u001b[0m \u001b[39mfrom\u001b[39;00m \u001b[39mray\u001b[39;00m\u001b[39m.\u001b[39;00m\u001b[39mrllib\u001b[39;00m\u001b[39m.\u001b[39;00m\u001b[39mutils\u001b[39;00m\u001b[39m.\u001b[39;00m\u001b[39mannotations\u001b[39;00m \u001b[39mimport\u001b[39;00m override, PublicAPI, DeveloperAPI\n\u001b[1;32m      5\u001b[0m \u001b[39mfrom\u001b[39;00m \u001b[39mray\u001b[39;00m\u001b[39m.\u001b[39;00m\u001b[39mrllib\u001b[39;00m\u001b[39m.\u001b[39;00m\u001b[39mutils\u001b[39;00m\u001b[39m.\u001b[39;00m\u001b[39mdeprecation\u001b[39;00m \u001b[39mimport\u001b[39;00m deprecation_warning\n\u001b[0;32m----> 6\u001b[0m \u001b[39mfrom\u001b[39;00m \u001b[39mray\u001b[39;00m\u001b[39m.\u001b[39;00m\u001b[39mrllib\u001b[39;00m\u001b[39m.\u001b[39;00m\u001b[39mutils\u001b[39;00m\u001b[39m.\u001b[39;00m\u001b[39mfilter\u001b[39;00m \u001b[39mimport\u001b[39;00m Filter\n\u001b[1;32m      7\u001b[0m \u001b[39mfrom\u001b[39;00m \u001b[39mray\u001b[39;00m\u001b[39m.\u001b[39;00m\u001b[39mrllib\u001b[39;00m\u001b[39m.\u001b[39;00m\u001b[39mutils\u001b[39;00m\u001b[39m.\u001b[39;00m\u001b[39mfilter_manager\u001b[39;00m \u001b[39mimport\u001b[39;00m FilterManager\n\u001b[1;32m      8\u001b[0m \u001b[39mfrom\u001b[39;00m \u001b[39mray\u001b[39;00m\u001b[39m.\u001b[39;00m\u001b[39mrllib\u001b[39;00m\u001b[39m.\u001b[39;00m\u001b[39mutils\u001b[39;00m\u001b[39m.\u001b[39;00m\u001b[39mframework\u001b[39;00m \u001b[39mimport\u001b[39;00m (\n\u001b[1;32m      9\u001b[0m     try_import_jax,\n\u001b[1;32m     10\u001b[0m     try_import_tf,\n\u001b[1;32m     11\u001b[0m     try_import_tfp,\n\u001b[1;32m     12\u001b[0m     try_import_torch,\n\u001b[1;32m     13\u001b[0m )\n",
      "File \u001b[0;32m/Library/Frameworks/Python.framework/Versions/3.11/lib/python3.11/site-packages/ray/rllib/utils/filter.py:5\u001b[0m\n\u001b[1;32m      2\u001b[0m \u001b[39mimport\u001b[39;00m \u001b[39mthreading\u001b[39;00m\n\u001b[1;32m      4\u001b[0m \u001b[39mimport\u001b[39;00m \u001b[39mnumpy\u001b[39;00m \u001b[39mas\u001b[39;00m \u001b[39mnp\u001b[39;00m\n\u001b[0;32m----> 5\u001b[0m \u001b[39mimport\u001b[39;00m \u001b[39mtree\u001b[39;00m  \u001b[39m# pip install dm_tree\u001b[39;00m\n\u001b[1;32m      7\u001b[0m \u001b[39mfrom\u001b[39;00m \u001b[39mray\u001b[39;00m\u001b[39m.\u001b[39;00m\u001b[39mrllib\u001b[39;00m\u001b[39m.\u001b[39;00m\u001b[39mutils\u001b[39;00m\u001b[39m.\u001b[39;00m\u001b[39mannotations\u001b[39;00m \u001b[39mimport\u001b[39;00m DeveloperAPI\n\u001b[1;32m      8\u001b[0m \u001b[39mfrom\u001b[39;00m \u001b[39mray\u001b[39;00m\u001b[39m.\u001b[39;00m\u001b[39mrllib\u001b[39;00m\u001b[39m.\u001b[39;00m\u001b[39mutils\u001b[39;00m\u001b[39m.\u001b[39;00m\u001b[39mdeprecation\u001b[39;00m \u001b[39mimport\u001b[39;00m Deprecated\n",
      "\u001b[0;31mModuleNotFoundError\u001b[0m: No module named 'tree'"
     ]
    }
   ],
   "source": [
    "# necessary installations for our package:\n",
    "\n",
    "#! pip install ray[rllib]\n",
    "#! pip install gymnasium\n",
    "#! pip install numpy\n",
    "#! pip install pandas\n",
    "#! pip install scipy\n",
    "\n",
    "import numpy as np\n",
    "\n",
    "from ray_trainer_api import ray_trainer\n",
    "from dyn_fns import threeSp_1\n"
   ]
  },
  {
   "cell_type": "markdown",
   "metadata": {},
   "source": [
    "### Ecological input\n",
    "\n",
    "The cell below translates the ecological data defining the control problem to the format that our classes use.\n",
    "\n",
    "The control problem is taken from the [rl-minicourse](https://github.com/cboettig/rl-minicourse) repository (found in the `challenge.ipynb` notebook).\n",
    "\n",
    "The `metadata` dictionary encapsulates most of the information of the control problem, except for the actual dynamics of the system. `dyn_fn` encapsulates the dynamics of the system (note that the number of arguments of this function must match `metadata['n_sp']`)."
   ]
  },
  {
   "cell_type": "code",
   "execution_count": 10,
   "metadata": {
    "tags": []
   },
   "outputs": [],
   "source": [
    "metadata = {\n",
    "\t#\n",
    "\t# structure of ctrl problem\n",
    "\t'name': 'minicourse_challenge', \n",
    "\t'n_sp':  3,\n",
    "\t'n_act': 2,\n",
    "\t'_harvested_sp': [0,1],\n",
    "\t#\n",
    "\t# about episodes\n",
    "\t'init_pop': np.float32([0.5, 0.5, 0.2]),\n",
    "\t'reset_sigma': 0.01,\n",
    "\t'tmax': 800,\n",
    "\t#\n",
    "\t# about dynamics / control\n",
    "    'extinct_thresh': 0.05,\n",
    "    'penalty_fn': lambda t: - 800 / (t+1),\n",
    "\t'var_bound': 4,\n",
    "\t'_costs': np.zeros(2, dtype=np.float32),\n",
    "\t'_prices': np.ones(2, dtype=np.float32),\n",
    "}\n",
    "\n",
    "params = {\n",
    "\t\"r_x\": np.float32(0.13),\n",
    "\t\"r_y\": np.float32(0.2),\n",
    "\t\"K\": np.float32(1),\n",
    "\t\"beta\": np.float32(.1),\n",
    "\t\"v0\":  np.float32(0.1),\n",
    "\t\"D\": np.float32(0.7),\n",
    "\t\"tau_yx\": np.float32(0),\n",
    "\t\"tau_xy\": np.float32(0),\n",
    "\t\"alpha\": np.float32(.3), \n",
    "\t\"dH\": np.float32(0.03),\n",
    "\t\"sigma_x\": np.float32(0.05),\n",
    "\t\"sigma_y\": np.float32(0.05),\n",
    "\t\"sigma_z\": np.float32(0.05),\n",
    "}\n",
    "\n",
    "def dyn_fn(X, Y, Z):\n",
    "\tglobal params\n",
    "\tp = params\n",
    "\t#\n",
    "\treturn np.float32([\n",
    "\t\tX + (p[\"r_x\"] * X * (1 - (X + p[\"tau_xy\"] * Y) / p[\"K\"])\n",
    "            - (1 - p[\"D\"]) * p[\"beta\"] * Z * (X**2) / (p[\"v0\"]**2 + X**2)\n",
    "            + p[\"sigma_x\"] * X * np.random.normal()from base_env import ray_eco_env\n",
    "\n",
    "env = ray_eco_env(config={'metadata': metadata,'dyn_fn': dyn_fn})\n",
    "            ),\n",
    "\t\tY + (p[\"r_y\"] * Y * (1 - (Y + p[\"tau_yx\"]* X ) / p[\"K\"] )\n",
    "\t\t\t\t- p[\"D\"] * p[\"beta\"] * Z * (Y**2) / (p[\"v0\"]**2 + Y**2)\n",
    "\t\t\t\t+ p[\"sigma_y\"] * Y * np.random.normal()\n",
    "\t\t\t\t),\n",
    "\t\tZ + p[\"alpha\"] * p[\"beta\"] * Z * (\n",
    "\t\t\t\t(1-p[\"D\"]) * (X**2) / (p[\"v0\"]**2 + X**2)\n",
    "\t\t\t\t+ p[\"D\"] * (Y**2) / (p[\"v0\"]**2 + Y**2)\n",
    "\t\t\t\t) - p[\"dH\"] * Z +  p[\"sigma_z\"] * Z  * np.random.normal()\n",
    "\t])"
   ]
  },
  {
   "cell_type": "markdown",
   "metadata": {},
   "source": [
    "### Training\n",
    "\n",
    "With the previous setup, we may define our trainer and train it as shown below."
   ]
  },
  {
   "cell_type": "code",
   "execution_count": 11,
   "metadata": {
    "tags": []
   },
   "outputs": [
    {
     "name": "stderr",
     "output_type": "stream",
     "text": [
      "2023-08-22 18:15:29,498\tWARNING algorithm_config.py:2558 -- Setting `exploration_config={}` because you set `_enable_rl_module_api=True`. When RLModule API are enabled, exploration_config can not be set. If you want to implement custom exploration behaviour, please modify the `forward_exploration` method of the RLModule at hand. On configs that have a default exploration config, this must be done with `config.exploration_config={}`.\n",
      "2023-08-22 18:15:29,500\tWARNING algorithm_config.py:2558 -- Setting `exploration_config={}` because you set `_enable_rl_module_api=True`. When RLModule API are enabled, exploration_config can not be set. If you want to implement custom exploration behaviour, please modify the `forward_exploration` method of the RLModule at hand. On configs that have a default exploration config, this must be done with `config.exploration_config={}`.\n",
      "\u001b[2m\u001b[36m(pid=5945)\u001b[0m DeprecationWarning: `DirectStepOptimizer` has been deprecated. This will raise an error in the future!\n",
      "2023-08-22 18:15:32,634\tWARNING algorithm_config.py:2558 -- Setting `exploration_config={}` because you set `_enable_rl_module_api=True`. When RLModule API are enabled, exploration_config can not be set. If you want to implement custom exploration behaviour, please modify the `forward_exploration` method of the RLModule at hand. On configs that have a default exploration config, this must be done with `config.exploration_config={}`.\n",
      "\u001b[2m\u001b[36m(RolloutWorker pid=5945)\u001b[0m 2023-08-22 18:15:32,589\tWARNING algorithm_config.py:2558 -- Setting `exploration_config={}` because you set `_enable_rl_module_api=True`. When RLModule API are enabled, exploration_config can not be set. If you want to implement custom exploration behaviour, please modify the `forward_exploration` method of the RLModule at hand. On configs that have a default exploration config, this must be done with `config.exploration_config={}`.\n",
      "\u001b[2m\u001b[36m(RolloutWorker pid=5944)\u001b[0m 2023-08-22 18:15:32,609\tWARNING deprecation.py:50 -- DeprecationWarning: `ValueNetworkMixin` has been deprecated. This will raise an error in the future!\n",
      "\u001b[2m\u001b[36m(RolloutWorker pid=5944)\u001b[0m 2023-08-22 18:15:32,609\tWARNING deprecation.py:50 -- DeprecationWarning: `LearningRateSchedule` has been deprecated. This will raise an error in the future!\n",
      "\u001b[2m\u001b[36m(RolloutWorker pid=5944)\u001b[0m 2023-08-22 18:15:32,609\tWARNING deprecation.py:50 -- DeprecationWarning: `EntropyCoeffSchedule` has been deprecated. This will raise an error in the future!\n",
      "\u001b[2m\u001b[36m(RolloutWorker pid=5944)\u001b[0m 2023-08-22 18:15:32,609\tWARNING deprecation.py:50 -- DeprecationWarning: `KLCoeffMixin` has been deprecated. This will raise an error in the future!\n",
      "2023-08-22 18:15:32,683\tWARNING util.py:68 -- Install gputil for GPU system monitoring.\n"
     ]
    },
    {
     "name": "stdout",
     "output_type": "stream",
     "text": [
      "iteration nr. 1\r"
     ]
    }
   ],
   "source": [
    "RT = ray_trainer(\n",
    "\talgo_name=\"ppo\", \n",
    "\tconfig={\n",
    "        'metadata': metadata,\n",
    "        'dyn_fn': dyn_fn,\n",
    "    },\n",
    ")\n",
    "agent = RT.train(iterations=300)"
   ]
  },
  {
   "cell_type": "code",
   "execution_count": null,
   "metadata": {
    "tags": []
   },
   "outputs": [],
   "source": [
    "from base_env import ray_eco_env\n",
    "\n",
    "env = ray_eco_env(config={'metadata': metadata,'dyn_fn': dyn_fn})"
   ]
  }
 ],
 "metadata": {
  "kernelspec": {
   "display_name": "Python 3 (ipykernel)",
   "language": "python",
   "name": "python3"
  },
  "language_info": {
   "codemirror_mode": {
    "name": "ipython",
    "version": 3
   },
   "file_extension": ".py",
   "mimetype": "text/x-python",
   "name": "python",
   "nbconvert_exporter": "python",
   "pygments_lexer": "ipython3",
   "version": "3.11.1"
  }
 },
 "nbformat": 4,
 "nbformat_minor": 4
}
